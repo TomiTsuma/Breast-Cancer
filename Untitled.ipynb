{
 "cells": [
  {
   "cell_type": "code",
   "execution_count": 2,
   "metadata": {},
   "outputs": [
    {
     "name": "stderr",
     "output_type": "stream",
     "text": [
      "C:\\ProgramData\\Anaconda3\\lib\\site-packages\\sklearn\\cross_validation.py:41: DeprecationWarning: This module was deprecated in version 0.18 in favor of the model_selection module into which all the refactored classes and functions are moved. Also note that the interface of the new CV iterators are different from that of this module. This module will be removed in 0.20.\n",
      "  \"This module will be removed in 0.20.\", DeprecationWarning)\n"
     ]
    }
   ],
   "source": [
    "import numpy as np\n",
    "import pandas as pd\n",
    "from sklearn import preprocessing, cross_validation,neighbors\n"
   ]
  },
  {
   "cell_type": "code",
   "execution_count": 3,
   "metadata": {},
   "outputs": [],
   "source": [
    "df = pd.read_csv('Breast cancer.csv')"
   ]
  },
  {
   "cell_type": "code",
   "execution_count": 5,
   "metadata": {},
   "outputs": [
    {
     "name": "stdout",
     "output_type": "stream",
     "text": [
      "          Id  Clump Thickness  Cell SizeUniformity   Cell Shape Uniformity  \\\n",
      "0    1000025                5                     1                      1   \n",
      "1    1002945                5                     4                      4   \n",
      "2    1015425                3                     1                      1   \n",
      "3    1016277                6                     8                      8   \n",
      "4    1017023                4                     1                      1   \n",
      "5    1017122                8                    10                     10   \n",
      "6    1018099                1                     1                      1   \n",
      "7    1018561                2                     1                      2   \n",
      "8    1033078                2                     1                      1   \n",
      "9    1033078                4                     2                      1   \n",
      "10   1035283                1                     1                      1   \n",
      "11   1036172                2                     1                      1   \n",
      "12   1041801                5                     3                      3   \n",
      "13   1043999                1                     1                      1   \n",
      "14   1044572                8                     7                      5   \n",
      "15   1047630                7                     4                      6   \n",
      "16   1048672                4                     1                      1   \n",
      "17   1049815                4                     1                      1   \n",
      "18   1050670               10                     7                      7   \n",
      "19   1050718                6                     1                      1   \n",
      "20   1054590                7                     3                      2   \n",
      "21   1054593               10                     5                      5   \n",
      "22   1056784                3                     1                      1   \n",
      "23   1057013                8                     4                      5   \n",
      "24   1059552                1                     1                      1   \n",
      "25   1065726                5                     2                      3   \n",
      "26   1066373                3                     2                      1   \n",
      "27   1066979                5                     1                      1   \n",
      "28   1067444                2                     1                      1   \n",
      "29   1070935                1                     1                      3   \n",
      "..       ...              ...                   ...                    ...   \n",
      "669  1350423                5                    10                     10   \n",
      "670  1352848                3                    10                      7   \n",
      "671  1353092                3                     2                      1   \n",
      "672  1354840                2                     1                      1   \n",
      "673  1354840                5                     3                      2   \n",
      "674  1355260                1                     1                      1   \n",
      "675  1365075                4                     1                      4   \n",
      "676  1365328                1                     1                      2   \n",
      "677  1368267                5                     1                      1   \n",
      "678  1368273                1                     1                      1   \n",
      "679  1368882                2                     1                      1   \n",
      "680  1369821               10                    10                     10   \n",
      "681  1371026                5                    10                     10   \n",
      "682  1371920                5                     1                      1   \n",
      "683   466906                1                     1                      1   \n",
      "684   466906                1                     1                      1   \n",
      "685   534555                1                     1                      1   \n",
      "686   536708                1                     1                      1   \n",
      "687   566346                3                     1                      1   \n",
      "688   603148                4                     1                      1   \n",
      "689   654546                1                     1                      1   \n",
      "690   654546                1                     1                      1   \n",
      "691   695091                5                    10                     10   \n",
      "692   714039                3                     1                      1   \n",
      "693   763235                3                     1                      1   \n",
      "694   776715                3                     1                      1   \n",
      "695   841769                2                     1                      1   \n",
      "696   888820                5                    10                     10   \n",
      "697   897471                4                     8                      6   \n",
      "698   897471                4                     8                      8   \n",
      "\n",
      "     Marginal Adhesion  Single Epithelial Cell Size Bare Nuclei  \\\n",
      "0                    1                            2           1   \n",
      "1                    5                            7          10   \n",
      "2                    1                            2           2   \n",
      "3                    1                            3           4   \n",
      "4                    3                            2           1   \n",
      "5                    8                            7          10   \n",
      "6                    1                            2          10   \n",
      "7                    1                            2           1   \n",
      "8                    1                            2           1   \n",
      "9                    1                            2           1   \n",
      "10                   1                            1           1   \n",
      "11                   1                            2           1   \n",
      "12                   3                            2           3   \n",
      "13                   1                            2           3   \n",
      "14                  10                            7           9   \n",
      "15                   4                            6           1   \n",
      "16                   1                            2           1   \n",
      "17                   1                            2           1   \n",
      "18                   6                            4          10   \n",
      "19                   1                            2           1   \n",
      "20                  10                            5          10   \n",
      "21                   3                            6           7   \n",
      "22                   1                            2           1   \n",
      "23                   1                            2           ?   \n",
      "24                   1                            2           1   \n",
      "25                   4                            2           7   \n",
      "26                   1                            1           1   \n",
      "27                   1                            2           1   \n",
      "28                   1                            2           1   \n",
      "29                   1                            2           1   \n",
      "..                 ...                          ...         ...   \n",
      "669                  8                            5           5   \n",
      "670                  8                            5           8   \n",
      "671                  2                            2           1   \n",
      "672                  1                            2           1   \n",
      "673                  1                            3           1   \n",
      "674                  1                            2           1   \n",
      "675                  1                            2           1   \n",
      "676                  1                            2           1   \n",
      "677                  1                            2           1   \n",
      "678                  1                            2           1   \n",
      "679                  1                            2           1   \n",
      "680                 10                            5          10   \n",
      "681                 10                            4          10   \n",
      "682                  1                            2           1   \n",
      "683                  1                            2           1   \n",
      "684                  1                            2           1   \n",
      "685                  1                            2           1   \n",
      "686                  1                            2           1   \n",
      "687                  1                            2           1   \n",
      "688                  1                            2           1   \n",
      "689                  1                            2           1   \n",
      "690                  3                            2           1   \n",
      "691                  5                            4           5   \n",
      "692                  1                            2           1   \n",
      "693                  1                            2           1   \n",
      "694                  1                            3           2   \n",
      "695                  1                            2           1   \n",
      "696                  3                            7           3   \n",
      "697                  4                            3           4   \n",
      "698                  5                            4           5   \n",
      "\n",
      "     Bland Chromatin  Normal Nucleoli  Mitoses  Class  \n",
      "0                  3                1        1      2  \n",
      "1                  3                2        1      2  \n",
      "2                  3                1        1      2  \n",
      "3                  3                7        1      2  \n",
      "4                  3                1        1      2  \n",
      "5                  9                7        1      4  \n",
      "6                  3                1        1      2  \n",
      "7                  3                1        1      2  \n",
      "8                  1                1        5      2  \n",
      "9                  2                1        1      2  \n",
      "10                 3                1        1      2  \n",
      "11                 2                1        1      2  \n",
      "12                 4                4        1      4  \n",
      "13                 3                1        1      2  \n",
      "14                 5                5        4      4  \n",
      "15                 4                3        1      4  \n",
      "16                 2                1        1      2  \n",
      "17                 3                1        1      2  \n",
      "18                 4                1        2      4  \n",
      "19                 3                1        1      2  \n",
      "20                 5                4        4      4  \n",
      "21                 7               10        1      4  \n",
      "22                 2                1        1      2  \n",
      "23                 7                3        1      4  \n",
      "24                 3                1        1      2  \n",
      "25                 3                6        1      4  \n",
      "26                 2                1        1      2  \n",
      "27                 2                1        1      2  \n",
      "28                 2                1        1      2  \n",
      "29                 1                1        1      2  \n",
      "..               ...              ...      ...    ...  \n",
      "669                7               10        1      4  \n",
      "670                7                4        1      4  \n",
      "671                3                1        1      2  \n",
      "672                3                1        1      2  \n",
      "673                1                1        1      2  \n",
      "674                2                1        1      2  \n",
      "675                1                1        1      2  \n",
      "676                2                1        1      2  \n",
      "677                1                1        1      2  \n",
      "678                1                1        1      2  \n",
      "679                1                1        1      2  \n",
      "680               10               10        7      4  \n",
      "681                5                6        3      4  \n",
      "682                3                2        1      2  \n",
      "683                1                1        1      2  \n",
      "684                1                1        1      2  \n",
      "685                1                1        1      2  \n",
      "686                1                1        1      2  \n",
      "687                2                3        1      2  \n",
      "688                1                1        1      2  \n",
      "689                1                1        8      2  \n",
      "690                1                1        1      2  \n",
      "691                4                4        1      4  \n",
      "692                1                1        1      2  \n",
      "693                2                1        2      2  \n",
      "694                1                1        1      2  \n",
      "695                1                1        1      2  \n",
      "696                8               10        2      4  \n",
      "697               10                6        1      4  \n",
      "698               10                4        1      4  \n",
      "\n",
      "[699 rows x 11 columns]\n"
     ]
    }
   ],
   "source": [
    "df.head()\n",
    "print(df)"
   ]
  },
  {
   "cell_type": "code",
   "execution_count": 6,
   "metadata": {},
   "outputs": [],
   "source": [
    "df.replace('?', -999999, inplace = True)"
   ]
  },
  {
   "cell_type": "code",
   "execution_count": 7,
   "metadata": {},
   "outputs": [],
   "source": [
    "df.drop(['Id'],1, inplace = True)"
   ]
  },
  {
   "cell_type": "code",
   "execution_count": 8,
   "metadata": {},
   "outputs": [],
   "source": [
    "x = np.array(df.drop(['Class'],1))"
   ]
  },
  {
   "cell_type": "code",
   "execution_count": null,
   "metadata": {},
   "outputs": [],
   "source": []
  },
  {
   "cell_type": "code",
   "execution_count": 9,
   "metadata": {},
   "outputs": [],
   "source": [
    "y =np.array(df.drop(['Class'],1))\n"
   ]
  },
  {
   "cell_type": "code",
   "execution_count": 10,
   "metadata": {},
   "outputs": [],
   "source": [
    "X_train,X_test,y_train,y_test = cross_validation.train_test_split(x,y,test_size = 0.2)"
   ]
  },
  {
   "cell_type": "code",
   "execution_count": 11,
   "metadata": {},
   "outputs": [],
   "source": [
    "clf = neighbors.KNeighborsClassifier()\n"
   ]
  },
  {
   "cell_type": "code",
   "execution_count": 12,
   "metadata": {},
   "outputs": [
    {
     "ename": "ValueError",
     "evalue": "could not convert string to float: '?'",
     "output_type": "error",
     "traceback": [
      "\u001b[1;31m---------------------------------------------------------------------------\u001b[0m",
      "\u001b[1;31mValueError\u001b[0m                                Traceback (most recent call last)",
      "\u001b[1;32m<ipython-input-12-4f66baab8f93>\u001b[0m in \u001b[0;36m<module>\u001b[1;34m()\u001b[0m\n\u001b[1;32m----> 1\u001b[1;33m \u001b[0mclf\u001b[0m\u001b[1;33m.\u001b[0m\u001b[0mfit\u001b[0m\u001b[1;33m(\u001b[0m\u001b[0mX_train\u001b[0m\u001b[1;33m,\u001b[0m \u001b[0my_train\u001b[0m\u001b[1;33m)\u001b[0m\u001b[1;33m\u001b[0m\u001b[0m\n\u001b[0m",
      "\u001b[1;32mC:\\ProgramData\\Anaconda3\\lib\\site-packages\\sklearn\\neighbors\\base.py\u001b[0m in \u001b[0;36mfit\u001b[1;34m(self, X, y)\u001b[0m\n\u001b[0;32m    763\u001b[0m         \"\"\"\n\u001b[0;32m    764\u001b[0m         \u001b[1;32mif\u001b[0m \u001b[1;32mnot\u001b[0m \u001b[0misinstance\u001b[0m\u001b[1;33m(\u001b[0m\u001b[0mX\u001b[0m\u001b[1;33m,\u001b[0m \u001b[1;33m(\u001b[0m\u001b[0mKDTree\u001b[0m\u001b[1;33m,\u001b[0m \u001b[0mBallTree\u001b[0m\u001b[1;33m)\u001b[0m\u001b[1;33m)\u001b[0m\u001b[1;33m:\u001b[0m\u001b[1;33m\u001b[0m\u001b[0m\n\u001b[1;32m--> 765\u001b[1;33m             \u001b[0mX\u001b[0m\u001b[1;33m,\u001b[0m \u001b[0my\u001b[0m \u001b[1;33m=\u001b[0m \u001b[0mcheck_X_y\u001b[0m\u001b[1;33m(\u001b[0m\u001b[0mX\u001b[0m\u001b[1;33m,\u001b[0m \u001b[0my\u001b[0m\u001b[1;33m,\u001b[0m \u001b[1;34m\"csr\"\u001b[0m\u001b[1;33m,\u001b[0m \u001b[0mmulti_output\u001b[0m\u001b[1;33m=\u001b[0m\u001b[1;32mTrue\u001b[0m\u001b[1;33m)\u001b[0m\u001b[1;33m\u001b[0m\u001b[0m\n\u001b[0m\u001b[0;32m    766\u001b[0m \u001b[1;33m\u001b[0m\u001b[0m\n\u001b[0;32m    767\u001b[0m         \u001b[1;32mif\u001b[0m \u001b[0my\u001b[0m\u001b[1;33m.\u001b[0m\u001b[0mndim\u001b[0m \u001b[1;33m==\u001b[0m \u001b[1;36m1\u001b[0m \u001b[1;32mor\u001b[0m \u001b[0my\u001b[0m\u001b[1;33m.\u001b[0m\u001b[0mndim\u001b[0m \u001b[1;33m==\u001b[0m \u001b[1;36m2\u001b[0m \u001b[1;32mand\u001b[0m \u001b[0my\u001b[0m\u001b[1;33m.\u001b[0m\u001b[0mshape\u001b[0m\u001b[1;33m[\u001b[0m\u001b[1;36m1\u001b[0m\u001b[1;33m]\u001b[0m \u001b[1;33m==\u001b[0m \u001b[1;36m1\u001b[0m\u001b[1;33m:\u001b[0m\u001b[1;33m\u001b[0m\u001b[0m\n",
      "\u001b[1;32mC:\\ProgramData\\Anaconda3\\lib\\site-packages\\sklearn\\utils\\validation.py\u001b[0m in \u001b[0;36mcheck_X_y\u001b[1;34m(X, y, accept_sparse, dtype, order, copy, force_all_finite, ensure_2d, allow_nd, multi_output, ensure_min_samples, ensure_min_features, y_numeric, warn_on_dtype, estimator)\u001b[0m\n\u001b[0;32m    571\u001b[0m     X = check_array(X, accept_sparse, dtype, order, copy, force_all_finite,\n\u001b[0;32m    572\u001b[0m                     \u001b[0mensure_2d\u001b[0m\u001b[1;33m,\u001b[0m \u001b[0mallow_nd\u001b[0m\u001b[1;33m,\u001b[0m \u001b[0mensure_min_samples\u001b[0m\u001b[1;33m,\u001b[0m\u001b[1;33m\u001b[0m\u001b[0m\n\u001b[1;32m--> 573\u001b[1;33m                     ensure_min_features, warn_on_dtype, estimator)\n\u001b[0m\u001b[0;32m    574\u001b[0m     \u001b[1;32mif\u001b[0m \u001b[0mmulti_output\u001b[0m\u001b[1;33m:\u001b[0m\u001b[1;33m\u001b[0m\u001b[0m\n\u001b[0;32m    575\u001b[0m         y = check_array(y, 'csr', force_all_finite=True, ensure_2d=False,\n",
      "\u001b[1;32mC:\\ProgramData\\Anaconda3\\lib\\site-packages\\sklearn\\utils\\validation.py\u001b[0m in \u001b[0;36mcheck_array\u001b[1;34m(array, accept_sparse, dtype, order, copy, force_all_finite, ensure_2d, allow_nd, ensure_min_samples, ensure_min_features, warn_on_dtype, estimator)\u001b[0m\n\u001b[0;32m    431\u001b[0m                                       force_all_finite)\n\u001b[0;32m    432\u001b[0m     \u001b[1;32melse\u001b[0m\u001b[1;33m:\u001b[0m\u001b[1;33m\u001b[0m\u001b[0m\n\u001b[1;32m--> 433\u001b[1;33m         \u001b[0marray\u001b[0m \u001b[1;33m=\u001b[0m \u001b[0mnp\u001b[0m\u001b[1;33m.\u001b[0m\u001b[0marray\u001b[0m\u001b[1;33m(\u001b[0m\u001b[0marray\u001b[0m\u001b[1;33m,\u001b[0m \u001b[0mdtype\u001b[0m\u001b[1;33m=\u001b[0m\u001b[0mdtype\u001b[0m\u001b[1;33m,\u001b[0m \u001b[0morder\u001b[0m\u001b[1;33m=\u001b[0m\u001b[0morder\u001b[0m\u001b[1;33m,\u001b[0m \u001b[0mcopy\u001b[0m\u001b[1;33m=\u001b[0m\u001b[0mcopy\u001b[0m\u001b[1;33m)\u001b[0m\u001b[1;33m\u001b[0m\u001b[0m\n\u001b[0m\u001b[0;32m    434\u001b[0m \u001b[1;33m\u001b[0m\u001b[0m\n\u001b[0;32m    435\u001b[0m         \u001b[1;32mif\u001b[0m \u001b[0mensure_2d\u001b[0m\u001b[1;33m:\u001b[0m\u001b[1;33m\u001b[0m\u001b[0m\n",
      "\u001b[1;31mValueError\u001b[0m: could not convert string to float: '?'"
     ]
    }
   ],
   "source": [
    "clf.fit(X_train, y_train)"
   ]
  },
  {
   "cell_type": "code",
   "execution_count": 2,
   "metadata": {},
   "outputs": [
    {
     "ename": "NameError",
     "evalue": "name 'clf' is not defined",
     "output_type": "error",
     "traceback": [
      "\u001b[1;31m---------------------------------------------------------------------------\u001b[0m",
      "\u001b[1;31mNameError\u001b[0m                                 Traceback (most recent call last)",
      "\u001b[1;32m<ipython-input-2-e2dbe96dadc0>\u001b[0m in \u001b[0;36m<module>\u001b[1;34m()\u001b[0m\n\u001b[1;32m----> 1\u001b[1;33m \u001b[0mOUT\u001b[0m\u001b[1;33m=\u001b[0m\u001b[0mclf\u001b[0m\u001b[1;33m.\u001b[0m\u001b[0mpredict\u001b[0m\u001b[1;33m\u001b[0m\u001b[0m\n\u001b[0m",
      "\u001b[1;31mNameError\u001b[0m: name 'clf' is not defined"
     ]
    }
   ],
   "source": [
    "OUT=clf.predict()"
   ]
  },
  {
   "cell_type": "code",
   "execution_count": null,
   "metadata": {},
   "outputs": [],
   "source": []
  }
 ],
 "metadata": {
  "kernelspec": {
   "display_name": "Python 3",
   "language": "python",
   "name": "python3"
  },
  "language_info": {
   "codemirror_mode": {
    "name": "ipython",
    "version": 3
   },
   "file_extension": ".py",
   "mimetype": "text/x-python",
   "name": "python",
   "nbconvert_exporter": "python",
   "pygments_lexer": "ipython3",
   "version": "3.7.2"
  }
 },
 "nbformat": 4,
 "nbformat_minor": 2
}
